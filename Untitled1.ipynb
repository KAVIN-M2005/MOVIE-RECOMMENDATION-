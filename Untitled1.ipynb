{
  "nbformat": 4,
  "nbformat_minor": 0,
  "metadata": {
    "colab": {
      "provenance": [],
      "authorship_tag": "ABX9TyOKyQNGgbI4QYzR13NSu725",
      "include_colab_link": true
    },
    "kernelspec": {
      "name": "python3",
      "display_name": "Python 3"
    },
    "language_info": {
      "name": "python"
    }
  },
  "cells": [
    {
      "cell_type": "markdown",
      "metadata": {
        "id": "view-in-github",
        "colab_type": "text"
      },
      "source": [
        "<a href=\"https://colab.research.google.com/github/KAVIN-M2005/MOVIE-RECOMMENDATION-/blob/main/Untitled1.ipynb\" target=\"_parent\"><img src=\"https://colab.research.google.com/assets/colab-badge.svg\" alt=\"Open In Colab\"/></a>"
      ]
    },
    {
      "cell_type": "code",
      "execution_count": null,
      "metadata": {
        "id": "jjV8sZ6qEMR1"
      },
      "outputs": [],
      "source": [
        "\n",
        " import pandas as pd\n",
        " import numpy as np\n",
        " import matplotlib.pyplot as plt\n",
        " import seaborn as sns\n"
      ]
    },
    {
      "cell_type": "code",
      "source": [
        "from google.colab import files\n",
        "uploaded = files.upload()\n"
      ],
      "metadata": {
        "id": "ivbgi59UHjA2"
      },
      "execution_count": null,
      "outputs": []
    },
    {
      "cell_type": "code",
      "source": [
        "import pandas as pd\n",
        "\n",
        "# Automatically gets the filename from the uploaded dictionary\n",
        "filename = next(iter(uploaded))\n",
        "df = pd.read_csv(filename)\n",
        "\n",
        "# Show the first 5 rows of the dataset\n",
        "df.head()"
      ],
      "metadata": {
        "id": "ePu0W-0OHrH6"
      },
      "execution_count": null,
      "outputs": []
    },
    {
      "cell_type": "code",
      "source": [
        "# Show statistical summary of numerical columns\n",
        "df.describe()\n",
        "# Include all columns, even non-numeric\n",
        "df.describe(include='all')\n",
        "df.info()"
      ],
      "metadata": {
        "id": "wkLYKOLbHz4V"
      },
      "execution_count": null,
      "outputs": []
    },
    {
      "cell_type": "code",
      "source": [],
      "metadata": {
        "id": "1EMGt18IIX2x"
      },
      "execution_count": null,
      "outputs": []
    }
  ]
}